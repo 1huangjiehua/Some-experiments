{
 "cells": [
  {
   "cell_type": "code",
   "execution_count": 1,
   "metadata": {},
   "outputs": [],
   "source": [
    "import numpy as np \n",
    "import pandas as pd\n",
    "from sklearn import preprocessing\n",
    "from sklearn.naive_bayes import GaussianNB"
   ]
  },
  {
   "cell_type": "code",
   "execution_count": 2,
   "metadata": {},
   "outputs": [],
   "source": [
    "column=['age','workclass','fnlwgt','education','education_number','marriage',\n",
    "        'occupation','relationship','race', 'sex', 'capital_gain', 'apital_loss', 'hours_per_week', 'native_country','收入']"
   ]
  },
  {
   "cell_type": "markdown",
   "metadata": {},
   "source": [
    "# 加载数据，并进行数据预处理"
   ]
  },
  {
   "cell_type": "code",
   "execution_count": 3,
   "metadata": {},
   "outputs": [],
   "source": [
    "#加载训练集，因训练集存在异常数据，即存在问号，通过查看异常数据所占据的比例较低，因此筛选将训练集中有着问号的数据进行舍弃，\n",
    "#同时通过筛选减少正反数据不均衡给予分类模型模型的影响\n",
    "input_file1= 'adult.data'\n",
    "X=[]\n",
    "y=[]\n",
    "num_lessthan50k=0\n",
    "num_morethan50k=0\n",
    "num_threshold=40000\n",
    "with open(input_file1, 'r') as f:\n",
    "    #readlines()每次按行读取整个文件内容，将读取到的内容放到一个列表中，返回list类型#\n",
    "    for line in f.readlines():\n",
    "        if '?' in line:\n",
    "            continue\n",
    "        data=line[:-1].split(', ')\n",
    "#         print(data)\n",
    "        if data[-1] == '<=50K' and num_lessthan50k < num_threshold:\n",
    "            X.append(data)\n",
    "            num_lessthan50k = num_lessthan50k + 1 \n",
    "        #根据target的不同，各选取相同大小的数据，即选取‘<=50k’与‘>50k’数量相等的数据#\n",
    "        elif data[-1]== '>50K' and num_morethan50k < num_threshold:\n",
    "            X.append(data)\n",
    "            num_morethan50k = num_morethan50k + 1\n",
    "       # num_lessthan50k 和 num_morethan50k 达到指定值 num_threshold后 跳出循环\n",
    "        if num_lessthan50k >= num_threshold and num_morethan50k >= num_threshold:\n",
    "            break\n",
    "X=np.array(X)"
   ]
  },
  {
   "cell_type": "code",
   "execution_count": 4,
   "metadata": {},
   "outputs": [],
   "source": [
    "#训练集无空值"
   ]
  },
  {
   "cell_type": "code",
   "execution_count": 5,
   "metadata": {},
   "outputs": [],
   "source": [
    "X=pd.DataFrame(X)\n",
    "X.columns=column\n",
    "data_train_chuliqian=X.dropna(axis=0, how='any')\n",
    "X=np.array(data_train_chuliqian)"
   ]
  },
  {
   "cell_type": "code",
   "execution_count": 6,
   "metadata": {},
   "outputs": [],
   "source": [
    "#通过sklearn-preprocessing的LabelEncoder方法将训练集非数字数据数字化，并取整\n",
    "label_encoder =[] \n",
    "#empty(shape[dtype,order ])依给定的shape，和数据类型dtype,返回一个一维或多维数组，数组的元素不为空，为随机产生的数据\n",
    "X_encoded = np.empty(X.shape)\n",
    "for i,item in enumerate(X[0]):\n",
    "    if item.isdigit():\n",
    "        X_encoded[:,i] = X[:,i]\n",
    "#         print(X_encoded[1])\n",
    "    else:\n",
    "        le=preprocessing.LabelEncoder()\n",
    "        label_encoder.append(le)\n",
    "        X_encoded[:,i]=label_encoder[-1].fit_transform(X[:, i])\n",
    "X=X_encoded[:,:-1].astype(int)\n",
    "y=X_encoded[:,-1].astype(int)"
   ]
  },
  {
   "cell_type": "code",
   "execution_count": 7,
   "metadata": {},
   "outputs": [],
   "source": [
    "# X=X_encoded[:,:-1]\n",
    "# y=X_encoded[:,-1]"
   ]
  },
  {
   "cell_type": "code",
   "execution_count": 8,
   "metadata": {},
   "outputs": [
    {
     "name": "stderr",
     "output_type": "stream",
     "text": [
      "C:\\ProgramData\\Anaconda3\\lib\\site-packages\\ipykernel_launcher.py:19: SettingWithCopyWarning: \n",
      "A value is trying to be set on a copy of a slice from a DataFrame\n",
      "\n",
      "See the caveats in the documentation: https://pandas.pydata.org/pandas-docs/stable/user_guide/indexing.html#returning-a-view-versus-a-copy\n",
      "C:\\ProgramData\\Anaconda3\\lib\\site-packages\\ipykernel_launcher.py:20: SettingWithCopyWarning: \n",
      "A value is trying to be set on a copy of a slice from a DataFrame\n",
      "\n",
      "See the caveats in the documentation: https://pandas.pydata.org/pandas-docs/stable/user_guide/indexing.html#returning-a-view-versus-a-copy\n"
     ]
    }
   ],
   "source": [
    "#加载测试集,删除测试集中第一个数据（无用数据），和最后一条数据（存在较多空值），并且将收入这列数据'<=50k.','>50k.'值替换'<=50k','>50k'\n",
    "input_file2= 'adult.test'\n",
    "X2=[]\n",
    "y2=[]\n",
    "with open(input_file2, 'r') as f2:\n",
    "    #readlines()每次按行读取整个文件内容，将读取到的内容放到一个列表中，返回list类型#\n",
    "    for line2 in f2.readlines():\n",
    "        if '?' in line2:\n",
    "            continue\n",
    "        data2=line2[:-1].split(', ')\n",
    "#         print(data2)\n",
    "        X2.append(data2)\n",
    "del(X2[0])\n",
    "# X2=np.array(X2)\n",
    "\n",
    "data=pd.DataFrame(X2)\n",
    "data.columns=column\n",
    "data_test=data.dropna(axis=0, how='any')\n",
    "data_test['收入'].loc[data_test['收入']=='<=50K.'] ='<=50K'\n",
    "data_test['收入'].loc[data_test['收入']=='>50K.'] ='>50K'\n",
    "data_test_array=np.array(data_test)\n",
    "data_test_list=data_test_array.tolist()"
   ]
  },
  {
   "cell_type": "code",
   "execution_count": 9,
   "metadata": {},
   "outputs": [],
   "source": [
    "#将测试集进行同样的编码处理（transform），即通sklearn-preprocessing的LabelEncoder方法将训练集非数字数据数字化，并取整\n",
    "input_data=data_test_list\n",
    "data_test_encode=[]\n",
    "for k in input_data:\n",
    "    count=0\n",
    "    input_data_encoded=[-1]*len(k)\n",
    "    for i,item in enumerate(k):\n",
    "        if item.isdigit():\n",
    "            input_data_encoded[i]=int(k[i])\n",
    "        else:\n",
    "            input_data_encoded[i]=int(label_encoder[count].transform([k[i]]))\n",
    "            count=count +1\n",
    "    data_test_encode.append(input_data_encoded)\n"
   ]
  },
  {
   "cell_type": "code",
   "execution_count": 10,
   "metadata": {},
   "outputs": [],
   "source": [
    "data_test_encode=np.array(data_test_encode)\n",
    "data_test_encode=pd.DataFrame(data_test_encode)"
   ]
  },
  {
   "cell_type": "code",
   "execution_count": 11,
   "metadata": {},
   "outputs": [],
   "source": [
    "#选择数据\n",
    "test_X=data_test_encode.iloc[:,:-1]\n",
    "test_y=data_test_encode.iloc[:,-1]"
   ]
  },
  {
   "cell_type": "code",
   "execution_count": 12,
   "metadata": {},
   "outputs": [],
   "source": [
    "from sklearn import model_selection\n",
    "from sklearn.ensemble import RandomForestClassifier\n",
    "from sklearn.model_selection import cross_val_score\n",
    "X_train,X_test,y_train,y_test=model_selection.train_test_split(X, y, test_size=0.25,random_state=5) #分割数据\n",
    "rfc=RandomForestClassifier(random_state=5)  #选择分类器\n",
    "rfc.fit(X_train,y_train)  #模型训练\n",
    "rfc_cross = cross_val_score(rfc,X_train,y_train,cv=10)  #交叉验证"
   ]
  },
  {
   "cell_type": "code",
   "execution_count": 13,
   "metadata": {},
   "outputs": [],
   "source": [
    "score_rfc = rfc.score(X_test,y_test)  "
   ]
  },
  {
   "cell_type": "code",
   "execution_count": 15,
   "metadata": {},
   "outputs": [],
   "source": [
    "test_y_predict=rfc.predict(test_X) #预测测试集"
   ]
  },
  {
   "cell_type": "markdown",
   "metadata": {},
   "source": [
    "# 全部测试集的指标"
   ]
  },
  {
   "cell_type": "code",
   "execution_count": 16,
   "metadata": {},
   "outputs": [
    {
     "name": "stdout",
     "output_type": "stream",
     "text": [
      "准确率为: 85.0730411686587 %\n",
      "精确度为： 73.26923076923076 %\n",
      "召回率为: 61.78378378378378 %\n",
      "f1值为： 0.6703812316715543 %\n"
     ]
    }
   ],
   "source": [
    "from sklearn.metrics import accuracy_score\n",
    "from sklearn.metrics import recall_score\n",
    "from sklearn.metrics import precision_score\n",
    "from sklearn.metrics import f1_score\n",
    "print(\"准确率为:\",accuracy_score(test_y,test_y_predict)*100,\"%\")\n",
    "print(\"精确度为：\",precision_score(test_y,test_y_predict)*100,\"%\")\n",
    "print(\"召回率为:\",recall_score(test_y,test_y_predict)*100,\"%\")\n",
    "print(\"f1值为：\",f1_score(test_y,test_y_predict),\"%\")"
   ]
  },
  {
   "cell_type": "markdown",
   "metadata": {},
   "source": [
    "# 预处理结果文件生成"
   ]
  },
  {
   "cell_type": "code",
   "execution_count": 17,
   "metadata": {},
   "outputs": [],
   "source": [
    "data_train_chulihuo=X_encoded.astype(int)"
   ]
  },
  {
   "cell_type": "code",
   "execution_count": 18,
   "metadata": {},
   "outputs": [],
   "source": [
    "data_train_chulihuo=pd.DataFrame(data_train_chulihuo)\n",
    "data_train_chulihuo.columns=column\n",
    "data_test_chulihuo=data_test_encode\n",
    "data_test_chulihuo.columns=column"
   ]
  },
  {
   "cell_type": "code",
   "execution_count": 19,
   "metadata": {},
   "outputs": [],
   "source": [
    "data_train_chulihuo_005_=data_train_chulihuo.iloc[:1508,:]\n",
    "data_test_chulihuo_005_=data_train_chulihuo.iloc[:763,:]"
   ]
  },
  {
   "cell_type": "code",
   "execution_count": 20,
   "metadata": {},
   "outputs": [],
   "source": [
    "data_train_chulihuo_005_.to_csv('data.train预处理后的结果(百分之五).csv',encoding='utf_8_sig')\n",
    "data_test_chulihuo_005_.to_csv('data.test预处理后的结果(百分之五).csv',encoding='utf_8_sig')"
   ]
  },
  {
   "cell_type": "markdown",
   "metadata": {},
   "source": [
    "# 测试前100数据分类结果 评估 "
   ]
  },
  {
   "cell_type": "code",
   "execution_count": 22,
   "metadata": {},
   "outputs": [
    {
     "name": "stdout",
     "output_type": "stream",
     "text": [
      "准确率为: 93.0 %\n",
      "精确度为： 85.0 %\n",
      "召回率为: 80.95238095238095 %\n",
      "f1值为： 0.8292682926829269 %\n"
     ]
    }
   ],
   "source": [
    "#\t基于5）的结果，写出构建的混淆矩阵，并进行实验说明4）的评估，写出指标的求解过程\n",
    "test_y_qian100_=list(test_y[:100])\n",
    "test_y_predict_qian100_=list(test_y_predict[:100])\n",
    "print(\"准确率为:\",accuracy_score(test_y_qian100_,test_y_predict_qian100_)*100,\"%\")\n",
    "print(\"精确度为：\",precision_score(test_y_qian100_,test_y_predict_qian100_)*100,\"%\")\n",
    "print(\"召回率为:\",recall_score(test_y_qian100_,test_y_predict_qian100_)*100,\"%\")\n",
    "print(\"f1值为：\",f1_score(test_y_qian100_,test_y_predict_qian100_),\"%\")\n",
    "from sklearn.metrics import confusion_matrix\n",
    "juzhen=confusion_matrix(test_y_qian100_, test_y_predict_qian100_)"
   ]
  },
  {
   "cell_type": "code",
   "execution_count": 40,
   "metadata": {},
   "outputs": [],
   "source": [
    "qian100=np.array(test_y_qian100_)\n",
    "qian100_=pd.DataFrame(qian100)\n",
    "qian100_.columns=['标签']"
   ]
  },
  {
   "cell_type": "code",
   "execution_count": 46,
   "metadata": {},
   "outputs": [],
   "source": [
    "qian100_['分类结果']=test_y_predict_qian100_  # 0为<=50k   ,1为>50k"
   ]
  },
  {
   "cell_type": "code",
   "execution_count": 48,
   "metadata": {},
   "outputs": [
    {
     "data": {
      "text/html": [
       "<div>\n",
       "<style scoped>\n",
       "    .dataframe tbody tr th:only-of-type {\n",
       "        vertical-align: middle;\n",
       "    }\n",
       "\n",
       "    .dataframe tbody tr th {\n",
       "        vertical-align: top;\n",
       "    }\n",
       "\n",
       "    .dataframe thead th {\n",
       "        text-align: right;\n",
       "    }\n",
       "</style>\n",
       "<table border=\"1\" class=\"dataframe\">\n",
       "  <thead>\n",
       "    <tr style=\"text-align: right;\">\n",
       "      <th></th>\n",
       "      <th>标签</th>\n",
       "      <th>分类结果</th>\n",
       "    </tr>\n",
       "  </thead>\n",
       "  <tbody>\n",
       "    <tr>\n",
       "      <th>0</th>\n",
       "      <td>0</td>\n",
       "      <td>0</td>\n",
       "    </tr>\n",
       "    <tr>\n",
       "      <th>1</th>\n",
       "      <td>0</td>\n",
       "      <td>0</td>\n",
       "    </tr>\n",
       "    <tr>\n",
       "      <th>2</th>\n",
       "      <td>1</td>\n",
       "      <td>1</td>\n",
       "    </tr>\n",
       "    <tr>\n",
       "      <th>3</th>\n",
       "      <td>1</td>\n",
       "      <td>1</td>\n",
       "    </tr>\n",
       "    <tr>\n",
       "      <th>4</th>\n",
       "      <td>0</td>\n",
       "      <td>0</td>\n",
       "    </tr>\n",
       "    <tr>\n",
       "      <th>...</th>\n",
       "      <td>...</td>\n",
       "      <td>...</td>\n",
       "    </tr>\n",
       "    <tr>\n",
       "      <th>95</th>\n",
       "      <td>0</td>\n",
       "      <td>0</td>\n",
       "    </tr>\n",
       "    <tr>\n",
       "      <th>96</th>\n",
       "      <td>0</td>\n",
       "      <td>0</td>\n",
       "    </tr>\n",
       "    <tr>\n",
       "      <th>97</th>\n",
       "      <td>0</td>\n",
       "      <td>0</td>\n",
       "    </tr>\n",
       "    <tr>\n",
       "      <th>98</th>\n",
       "      <td>0</td>\n",
       "      <td>0</td>\n",
       "    </tr>\n",
       "    <tr>\n",
       "      <th>99</th>\n",
       "      <td>0</td>\n",
       "      <td>0</td>\n",
       "    </tr>\n",
       "  </tbody>\n",
       "</table>\n",
       "<p>100 rows × 2 columns</p>\n",
       "</div>"
      ],
      "text/plain": [
       "    标签  分类结果\n",
       "0    0     0\n",
       "1    0     0\n",
       "2    1     1\n",
       "3    1     1\n",
       "4    0     0\n",
       "..  ..   ...\n",
       "95   0     0\n",
       "96   0     0\n",
       "97   0     0\n",
       "98   0     0\n",
       "99   0     0\n",
       "\n",
       "[100 rows x 2 columns]"
      ]
     },
     "execution_count": 48,
     "metadata": {},
     "output_type": "execute_result"
    }
   ],
   "source": [
    "qian100_   # 0为<=50k   ,1为>50k"
   ]
  },
  {
   "cell_type": "code",
   "execution_count": 45,
   "metadata": {},
   "outputs": [],
   "source": [
    "qian100_.to_csv('前100项测试数据进行测试的结果.csv',encoding='utf_8_sig')"
   ]
  },
  {
   "cell_type": "code",
   "execution_count": 49,
   "metadata": {},
   "outputs": [
    {
     "data": {
      "text/plain": [
       "array([[76,  3],\n",
       "       [ 4, 17]], dtype=int64)"
      ]
     },
     "execution_count": 49,
     "metadata": {},
     "output_type": "execute_result"
    }
   ],
   "source": [
    "juzhen"
   ]
  }
 ],
 "metadata": {
  "kernelspec": {
   "display_name": "Python 3",
   "language": "python",
   "name": "python3"
  },
  "language_info": {
   "codemirror_mode": {
    "name": "ipython",
    "version": 3
   },
   "file_extension": ".py",
   "mimetype": "text/x-python",
   "name": "python",
   "nbconvert_exporter": "python",
   "pygments_lexer": "ipython3",
   "version": "3.7.6"
  }
 },
 "nbformat": 4,
 "nbformat_minor": 4
}
